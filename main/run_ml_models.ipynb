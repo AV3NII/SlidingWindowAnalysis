{
 "cells": [
  {
   "cell_type": "code",
   "id": "initial_id",
   "metadata": {
    "collapsed": true,
    "ExecuteTime": {
     "end_time": "2024-08-18T18:42:20.736146Z",
     "start_time": "2024-08-18T18:42:17.490224Z"
    }
   },
   "source": [
    "import pandas as pd\n",
    "from helpers.data_loader import *\n",
    "from helpers.metrics import train_and_evaluate_model, mean_squared_error\n",
    "from model_composer.model_builders import *\n",
    "from model_composer.prepare import *\n",
    "from helpers.logger import *\n",
    "import time\n",
    "from sklearn.model_selection import train_test_split"
   ],
   "outputs": [],
   "execution_count": 1
  },
  {
   "metadata": {
    "ExecuteTime": {
     "end_time": "2024-08-18T18:42:20.738936Z",
     "start_time": "2024-08-18T18:42:20.737064Z"
    }
   },
   "cell_type": "code",
   "source": [
    "target = 'temp'\n",
    "model_names = [ 'xgb', 'gbm']\n",
    "model_func = [ create_xgboost_model, create_lightgbm_model]\n",
    "window_sizes = [7, 14, 30, 60, 180, 365]\n"
   ],
   "id": "38a925c7b6f0b883",
   "outputs": [],
   "execution_count": 2
  },
  {
   "metadata": {
    "ExecuteTime": {
     "end_time": "2024-08-18T18:42:20.741832Z",
     "start_time": "2024-08-18T18:42:20.739642Z"
    }
   },
   "cell_type": "code",
   "source": [
    "def create_sliding_window_features(df, target_column, window_size):\n",
    "    X, y = [], []\n",
    "    for i in range(len(df) - window_size):\n",
    "        X.append(df.drop(columns=[target_column]).iloc[i:i + window_size])\n",
    "        y.append(df.iloc[i + window_size][target_column])\n",
    "    return np.array(X), np.array(y)"
   ],
   "id": "49141088eeec5be4",
   "outputs": [],
   "execution_count": 3
  },
  {
   "metadata": {
    "ExecuteTime": {
     "end_time": "2024-08-18T18:42:20.746268Z",
     "start_time": "2024-08-18T18:42:20.743043Z"
    }
   },
   "cell_type": "code",
   "source": [
    "from sklearn.model_selection import GridSearchCV\n",
    "from sklearn.metrics import mean_absolute_error, r2_score\n",
    "\n",
    "\n",
    "def train_and_evaluate_model(model, X_train, y_train, X_test, y_test, model_name, window_size, hyperparams=None):\n",
    "    # Record start time\n",
    "    if hyperparams is not None:\n",
    "        grid_search = GridSearchCV(estimator=model, param_grid=hyperparams,scoring='neg_mean_squared_error', cv=3, verbose=1)\n",
    "\n",
    "        grid_search.fit(X_train, y_train)\n",
    "\n",
    "        model = grid_search.best_estimator_\n",
    "\n",
    "        start_time = time.time()\n",
    "        model.fit(X_train, y_train)\n",
    "        training_time = time.time() - start_time\n",
    "    else:\n",
    "\n",
    "        start_time = time.time()\n",
    "\n",
    "        # Fit the model\n",
    "        model.fit(X_train, y_train)\n",
    "\n",
    "        # Calculate training time\n",
    "        training_time = time.time() - start_time\n",
    "\n",
    "    # Make predictions\n",
    "    y_pred = model.predict(X_test)\n",
    "\n",
    "    # Ensure y_pred is 1D\n",
    "    y_pred = y_pred.flatten()\n",
    "    y_test = y_test.flatten()\n",
    "\n",
    "    # Calculate metrics\n",
    "    rmse = np.sqrt(mean_squared_error(y_test, y_pred))\n",
    "    mae = mean_absolute_error(y_test, y_pred)\n",
    "    smape = 100 * np.mean(2 * np.abs(y_pred - y_test) / (np.abs(y_pred) + np.abs(y_test)))\n",
    "    r2 = r2_score(y_test, y_pred)\n",
    "    forecast_bias = np.mean(y_pred - y_test)\n",
    "\n",
    "    # Compile metrics dictionary\n",
    "    metrics = {\n",
    "        'model_name': model_name,\n",
    "        'window_size': window_size,\n",
    "        'rmse': rmse,\n",
    "        'mae': mae,\n",
    "        'smape': smape,\n",
    "        'r2': r2,\n",
    "        'forecast_bias': forecast_bias,\n",
    "        'training_time': training_time\n",
    "    }\n",
    "\n",
    "    return model, metrics\n",
    "        "
   ],
   "id": "ad7969ee87126336",
   "outputs": [],
   "execution_count": 4
  },
  {
   "metadata": {
    "jupyter": {
     "is_executing": true
    },
    "ExecuteTime": {
     "end_time": "2024-08-18T18:56:55.493142Z",
     "start_time": "2024-08-18T18:42:20.747022Z"
    }
   },
   "cell_type": "code",
   "source": [
    "\n",
    "\n",
    "# Load the data\n",
    "data = pd.read_csv('../../data/Germany_20140101_20231231.csv')\n",
    "df = preprocess_df(data)\n",
    "\n",
    "\n",
    "\n",
    "for index, model_name in enumerate(model_names):\n",
    "    for window_size in window_sizes:\n",
    "        X, y = create_sliding_window_features(df, target, window_size)\n",
    "        n_samples, window, n_features = X.shape\n",
    "        X = X.reshape((n_samples, window * n_features))\n",
    "        X_train, X_test, y_train, y_test = train_test_split(X, y, test_size=0.3, random_state=42, shuffle=False)\n",
    "        model = model_func[index]()\n",
    "        model, metrics = train_and_evaluate_model(model, X_train, y_train, X_test, y_test, model_name, window_size)\n",
    "        log(metrics, 'noTuning')"
   ],
   "id": "1219f9fbc199b0b7",
   "outputs": [
    {
     "name": "stdout",
     "output_type": "stream",
     "text": [
      "Metrics have been logged to: ../results/noTuning/xgb/metrics.csv\n",
      "Metrics have been logged to: ../results/noTuning/xgb/metrics.csv\n",
      "Metrics have been logged to: ../results/noTuning/xgb/metrics.csv\n",
      "Metrics have been logged to: ../results/noTuning/xgb/metrics.csv\n",
      "Metrics have been logged to: ../results/noTuning/xgb/metrics.csv\n",
      "Metrics have been logged to: ../results/noTuning/xgb/metrics.csv\n"
     ]
    },
    {
     "name": "stderr",
     "output_type": "stream",
     "text": [
      "python(31597) MallocStackLogging: can't turn off malloc stack logging because it was not enabled.\n"
     ]
    },
    {
     "name": "stdout",
     "output_type": "stream",
     "text": [
      "[LightGBM] [Warning] feature_fraction is set=0.9, colsample_bytree=1.0 will be ignored. Current value: feature_fraction=0.9\n",
      "[LightGBM] [Warning] feature_fraction is set=0.9, colsample_bytree=1.0 will be ignored. Current value: feature_fraction=0.9\n",
      "[LightGBM] [Info] Auto-choosing col-wise multi-threading, the overhead of testing was 0.003861 seconds.\n",
      "You can set `force_col_wise=true` to remove the overhead.\n",
      "[LightGBM] [Info] Total Bins 35336\n",
      "[LightGBM] [Info] Number of data points in the train set: 10220, number of used features: 217\n",
      "[LightGBM] [Info] Start training from score 10.654002\n",
      "[LightGBM] [Warning] feature_fraction is set=0.9, colsample_bytree=1.0 will be ignored. Current value: feature_fraction=0.9\n",
      "Metrics have been logged to: ../results/noTuning/gbm/metrics.csv\n",
      "[LightGBM] [Warning] feature_fraction is set=0.9, colsample_bytree=1.0 will be ignored. Current value: feature_fraction=0.9\n",
      "[LightGBM] [Warning] feature_fraction is set=0.9, colsample_bytree=1.0 will be ignored. Current value: feature_fraction=0.9\n",
      "[LightGBM] [Info] Auto-choosing col-wise multi-threading, the overhead of testing was 0.007940 seconds.\n",
      "You can set `force_col_wise=true` to remove the overhead.\n",
      "[LightGBM] [Info] Total Bins 70672\n",
      "[LightGBM] [Info] Number of data points in the train set: 10215, number of used features: 434\n",
      "[LightGBM] [Info] Start training from score 10.657230\n",
      "[LightGBM] [Warning] feature_fraction is set=0.9, colsample_bytree=1.0 will be ignored. Current value: feature_fraction=0.9\n",
      "Metrics have been logged to: ../results/noTuning/gbm/metrics.csv\n",
      "[LightGBM] [Warning] feature_fraction is set=0.9, colsample_bytree=1.0 will be ignored. Current value: feature_fraction=0.9\n",
      "[LightGBM] [Warning] feature_fraction is set=0.9, colsample_bytree=1.0 will be ignored. Current value: feature_fraction=0.9\n",
      "[LightGBM] [Info] Auto-choosing col-wise multi-threading, the overhead of testing was 0.017263 seconds.\n",
      "You can set `force_col_wise=true` to remove the overhead.\n",
      "[LightGBM] [Info] Total Bins 151440\n",
      "[LightGBM] [Info] Number of data points in the train set: 10204, number of used features: 930\n",
      "[LightGBM] [Info] Start training from score 10.672266\n",
      "[LightGBM] [Warning] feature_fraction is set=0.9, colsample_bytree=1.0 will be ignored. Current value: feature_fraction=0.9\n",
      "Metrics have been logged to: ../results/noTuning/gbm/metrics.csv\n",
      "[LightGBM] [Warning] feature_fraction is set=0.9, colsample_bytree=1.0 will be ignored. Current value: feature_fraction=0.9\n",
      "[LightGBM] [Warning] feature_fraction is set=0.9, colsample_bytree=1.0 will be ignored. Current value: feature_fraction=0.9\n",
      "[LightGBM] [Info] Auto-choosing col-wise multi-threading, the overhead of testing was 0.039871 seconds.\n",
      "You can set `force_col_wise=true` to remove the overhead.\n",
      "[LightGBM] [Info] Total Bins 302855\n",
      "[LightGBM] [Info] Number of data points in the train set: 10183, number of used features: 1860\n",
      "[LightGBM] [Info] Start training from score 10.679770\n",
      "[LightGBM] [Warning] feature_fraction is set=0.9, colsample_bytree=1.0 will be ignored. Current value: feature_fraction=0.9\n",
      "Metrics have been logged to: ../results/noTuning/gbm/metrics.csv\n",
      "[LightGBM] [Warning] feature_fraction is set=0.9, colsample_bytree=1.0 will be ignored. Current value: feature_fraction=0.9\n",
      "[LightGBM] [Warning] feature_fraction is set=0.9, colsample_bytree=1.0 will be ignored. Current value: feature_fraction=0.9\n",
      "[LightGBM] [Info] Auto-choosing col-wise multi-threading, the overhead of testing was 0.174920 seconds.\n",
      "You can set `force_col_wise=true` to remove the overhead.\n",
      "[LightGBM] [Info] Total Bins 908859\n",
      "[LightGBM] [Info] Number of data points in the train set: 10099, number of used features: 5580\n",
      "[LightGBM] [Info] Start training from score 10.642044\n",
      "[LightGBM] [Warning] feature_fraction is set=0.9, colsample_bytree=1.0 will be ignored. Current value: feature_fraction=0.9\n",
      "Metrics have been logged to: ../results/noTuning/gbm/metrics.csv\n",
      "[LightGBM] [Warning] feature_fraction is set=0.9, colsample_bytree=1.0 will be ignored. Current value: feature_fraction=0.9\n",
      "[LightGBM] [Warning] feature_fraction is set=0.9, colsample_bytree=1.0 will be ignored. Current value: feature_fraction=0.9\n",
      "[LightGBM] [Info] Auto-choosing col-wise multi-threading, the overhead of testing was 0.403988 seconds.\n",
      "You can set `force_col_wise=true` to remove the overhead.\n",
      "[LightGBM] [Info] Total Bins 1843072\n",
      "[LightGBM] [Info] Number of data points in the train set: 9970, number of used features: 11315\n",
      "[LightGBM] [Info] Start training from score 10.575757\n",
      "[LightGBM] [Warning] feature_fraction is set=0.9, colsample_bytree=1.0 will be ignored. Current value: feature_fraction=0.9\n",
      "Metrics have been logged to: ../results/noTuning/gbm/metrics.csv\n"
     ]
    }
   ],
   "execution_count": 5
  },
  {
   "metadata": {
    "is_executing": true,
    "ExecuteTime": {
     "start_time": "2024-08-18T18:57:54.662771Z"
    }
   },
   "cell_type": "code",
   "outputs": [
    {
     "name": "stdout",
     "output_type": "stream",
     "text": [
      "Fitting 3 folds for each of 324 candidates, totalling 972 fits\n",
      "Metrics have been logged to: ../results/tuning/xgb/metrics.csv\n",
      "Fitting 3 folds for each of 324 candidates, totalling 972 fits\n",
      "Metrics have been logged to: ../results/tuning/xgb/metrics.csv\n",
      "Fitting 3 folds for each of 324 candidates, totalling 972 fits\n",
      "Metrics have been logged to: ../results/tuning/xgb/metrics.csv\n",
      "Fitting 3 folds for each of 324 candidates, totalling 972 fits\n"
     ]
    }
   ],
   "execution_count": null,
   "source": [
    "param_grid = {\n",
    "    'n_estimators': [50, 100, 150, 200],\n",
    "    'max_depth': [3, 5, 7],\n",
    "    'learning_rate': [0.1, 0.01, 0.001],\n",
    "    'subsample': [0.8, 0.9, 1.0],\n",
    "    'gamma': [0, 0.1, 0.2]\n",
    "}\n",
    "\n",
    "for index, model_name in enumerate(model_names):\n",
    "    for window_size in window_sizes:\n",
    "        X, y = create_sliding_window_features(df, target, window_size)\n",
    "        n_samples, window, n_features = X.shape\n",
    "        X = X.reshape((n_samples, window * n_features))\n",
    "        X_train, X_test, y_train, y_test = train_test_split(X, y, test_size=0.3, random_state=42, shuffle=False)\n",
    "        model = model_func[index]()\n",
    "        model, metrics = train_and_evaluate_model(model, X_train, y_train, X_test, y_test, model_name, window_size, hyperparams=param_grid)\n",
    "        log(metrics, 'tuning')"
   ],
   "id": "dfcd0cca75b17e30"
  },
  {
   "cell_type": "code",
   "outputs": [],
   "source": [],
   "metadata": {
    "collapsed": false,
    "ExecuteTime": {
     "end_time": "2024-08-18T18:57:44.796611Z",
     "start_time": "2024-08-18T18:57:44.796560Z"
    }
   },
   "id": "cca3d8154375bdac"
  }
 ],
 "metadata": {
  "kernelspec": {
   "display_name": "Python 3",
   "language": "python",
   "name": "python3"
  },
  "language_info": {
   "codemirror_mode": {
    "name": "ipython",
    "version": 2
   },
   "file_extension": ".py",
   "mimetype": "text/x-python",
   "name": "python",
   "nbconvert_exporter": "python",
   "pygments_lexer": "ipython2",
   "version": "2.7.6"
  }
 },
 "nbformat": 4,
 "nbformat_minor": 5
}
