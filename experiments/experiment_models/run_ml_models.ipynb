{
 "cells": [
  {
   "cell_type": "code",
   "id": "initial_id",
   "metadata": {
    "collapsed": true,
    "ExecuteTime": {
     "end_time": "2024-08-18T17:49:08.959488Z",
     "start_time": "2024-08-18T17:48:59.228087Z"
    }
   },
   "source": [
    "import pandas as pd\n",
    "from helpers.data_loader import *\n",
    "from helpers.metrics import train_and_evaluate_model\n",
    "from model_composer.model_builders import *\n",
    "from model_composer.prepare import *\n",
    "from helpers.logger import *\n",
    "from sklearn.model_selection import train_test_split"
   ],
   "outputs": [],
   "execution_count": 1
  },
  {
   "metadata": {
    "ExecuteTime": {
     "end_time": "2024-08-18T17:49:09.028601Z",
     "start_time": "2024-08-18T17:49:09.022421Z"
    }
   },
   "cell_type": "code",
   "source": [
    "target = 'temp'\n",
    "model_names = [ 'xgb', 'gbm']\n",
    "model_func = [ create_xgboost_model, create_lightgbm_model]\n",
    "window_sizes = [7, 14, 30, 60, 180, 365]\n"
   ],
   "id": "38a925c7b6f0b883",
   "outputs": [],
   "execution_count": 3
  },
  {
   "metadata": {
    "ExecuteTime": {
     "end_time": "2024-08-18T17:49:09.531977Z",
     "start_time": "2024-08-18T17:49:09.522656Z"
    }
   },
   "cell_type": "code",
   "source": [
    "def create_sliding_window_features(df, target_column, window_size):\n",
    "    X, y = [], []\n",
    "    for i in range(len(df) - window_size):\n",
    "        X.append(df.drop(columns=[target_column]).iloc[i:i + window_size])\n",
    "        y.append(df.iloc[i + window_size][target_column])\n",
    "    return np.array(X), np.array(y)"
   ],
   "id": "49141088eeec5be4",
   "outputs": [],
   "execution_count": 4
  },
  {
   "metadata": {
    "ExecuteTime": {
     "end_time": "2024-08-18T17:49:09.564890Z",
     "start_time": "2024-08-18T17:49:09.553882Z"
    }
   },
   "cell_type": "code",
   "source": [
    "def train_and_evaluate_model(model, X_train, y_train, X_test, y_test, model_name, window_size, hyperparams=None):\n",
    "    # Record start time\n",
    "    if hyperparams is not None:\n",
    "        grid_search = GridSearchCV(estimator=model, param_grid=hyperparams,scoring='neg_mean_squared_error', cv=3, verbose=1)\n",
    "\n",
    "        grid_search.fit(X_train, y_train)\n",
    "\n",
    "        model = grid_search.best_estimator_\n",
    "\n",
    "        start_time = time.time()\n",
    "        model.fit(X_train, y_train)\n",
    "        training_time = time.time() - start_time\n",
    "    else:\n",
    "\n",
    "        start_time = time.time()\n",
    "\n",
    "        # Fit the model\n",
    "        model.fit(X_train, y_train)\n",
    "\n",
    "        # Calculate training time\n",
    "        training_time = time.time() - start_time\n",
    "\n",
    "    # Make predictions\n",
    "    y_pred = model.predict(X_test)\n",
    "\n",
    "    # Ensure y_pred is 1D\n",
    "    y_pred = y_pred.flatten()\n",
    "    y_test = y_test.flatten()\n",
    "\n",
    "    # Calculate metrics\n",
    "    rmse = np.sqrt(mean_squared_error(y_test, y_pred))\n",
    "    mae = mean_absolute_error(y_test, y_pred)\n",
    "    smape = 100 * np.mean(2 * np.abs(y_pred - y_test) / (np.abs(y_pred) + np.abs(y_test)))\n",
    "    r2 = r2_score(y_test, y_pred)\n",
    "    forecast_bias = np.mean(y_pred - y_test)\n",
    "\n",
    "    # Compile metrics dictionary\n",
    "    metrics = {\n",
    "        'model_name': model_name,\n",
    "        'window_size': window_size,\n",
    "        'rmse': rmse,\n",
    "        'mae': mae,\n",
    "        'smape': smape,\n",
    "        'r2': r2,\n",
    "        'forecast_bias': forecast_bias,\n",
    "        'training_time': training_time\n",
    "    }\n",
    "\n",
    "    return model, metrics\n",
    "        "
   ],
   "id": "ad7969ee87126336",
   "outputs": [],
   "execution_count": 5
  },
  {
   "metadata": {
    "jupyter": {
     "is_executing": true
    },
    "ExecuteTime": {
     "start_time": "2024-08-18T17:49:09.651904Z"
    }
   },
   "cell_type": "code",
   "source": [
    "\n",
    "\n",
    "# Load the data\n",
    "data = pd.read_csv('../data/Germany_20140101_20231231.csv')\n",
    "df = preprocess_df(data)\n",
    "\n",
    "\n",
    "\n",
    "for index, model_name in enumerate(model_names):\n",
    "    for window_size in window_sizes:\n",
    "        X, y = create_sliding_window_features(df, target, window_size)\n",
    "        n_samples, window, n_features = X.shape\n",
    "        X = X.reshape((n_samples, window * n_features))\n",
    "        X_train, X_test, y_train, y_test = train_test_split(X, y, test_size=0.3, random_state=42, shuffle=False)\n",
    "        model = model_func[index]()\n",
    "        model, metrics = train_and_evaluate_model(model, X_train, y_train, X_test, y_test, model_name, window_size)\n",
    "        log(metrics, 'noTuning')"
   ],
   "id": "1219f9fbc199b0b7",
   "outputs": [],
   "execution_count": null
  },
  {
   "metadata": {},
   "cell_type": "code",
   "outputs": [],
   "execution_count": null,
   "source": [
    "param_grid = {\n",
    "    'n_estimators': [50, 100],\n",
    "    'max_depth': [3, 5],\n",
    "    'learning_rate': [0.1, 0.01],\n",
    "    'subsample': [0.8, 1.0]\n",
    "}\n",
    "\n",
    "for index, model_name in enumerate(model_names):\n",
    "    for window_size in window_sizes:\n",
    "        X, y = create_sliding_window_features(df, target, window_size)\n",
    "        n_samples, window, n_features = X.shape\n",
    "        X = X.reshape((n_samples, window * n_features))\n",
    "        X_train, X_test, y_train, y_test = train_test_split(X, y, test_size=0.3, random_state=42, shuffle=False)\n",
    "        model = model_func[index]()\n",
    "        model, metrics = train_and_evaluate_model(model, X_train, y_train, X_test, y_test, model_name, window_size, hyperparams=param_grid)\n",
    "        log(metrics, 'noTuning')"
   ],
   "id": "dfcd0cca75b17e30"
  },
  {
   "metadata": {
    "ExecuteTime": {
     "end_time": "2024-08-18T14:52:11.053194Z",
     "start_time": "2024-08-18T14:52:10.737225Z"
    }
   },
   "cell_type": "code",
   "source": [
    "import pandas as pd\n",
    "from helpers.logger import *\n",
    "# Load the dataset\n",
    "file_path = '../data/Germany_20140101_20231231.csv'\n",
    "df = pd.read_csv(file_path)\n",
    "df = preprocess_df(df)"
   ],
   "id": "873e8a5529d6d8e2",
   "outputs": [],
   "execution_count": 2
  },
  {
   "metadata": {
    "ExecuteTime": {
     "end_time": "2024-08-18T14:52:11.786512Z",
     "start_time": "2024-08-18T14:52:11.777144Z"
    }
   },
   "cell_type": "code",
   "source": [
    "import numpy as np\n",
    "from xgboost import XGBRegressor\n",
    "from sklearn.model_selection import train_test_split\n",
    "from sklearn.metrics import mean_squared_error"
   ],
   "id": "99ec8dd207030891",
   "outputs": [],
   "execution_count": 3
  },
  {
   "metadata": {
    "ExecuteTime": {
     "end_time": "2024-08-18T14:52:11.862540Z",
     "start_time": "2024-08-18T14:52:11.848075Z"
    }
   },
   "cell_type": "code",
   "source": "window_size = 7",
   "id": "8f62a39570e5017a",
   "outputs": [],
   "execution_count": 4
  },
  {
   "metadata": {
    "ExecuteTime": {
     "start_time": "2024-08-18T14:52:11.954151Z"
    }
   },
   "cell_type": "code",
   "source": [
    "def create_sliding_window_features(df, target_column, window_size):\n",
    "    X, y = [], []\n",
    "    for i in range(len(df) - window_size):\n",
    "        X.append(df.drop(columns=[target_column]).iloc[i:i + window_size])\n",
    "        y.append(df.iloc[i + window_size][target_column])\n",
    "    return np.array(X), np.array(y)\n",
    "\n",
    "# Assume we want to predict 'temp' (average temperature)\n",
    "target_column = 'temp'\n",
    "X, y = create_sliding_window_features(df, target_column, window_size)\n",
    "\n",
    "# Reshape X to be 2D: (samples, features)\n",
    "n_samples, window, n_features = X.shape\n",
    "X = X.reshape((n_samples, window * n_features))\n",
    "\n",
    "# Split data into training and testing sets\n",
    "X_train, X_test, y_train, y_test = train_test_split(X, y, test_size=0.3, random_state=42, shuffle=False)\n",
    "\n",
    "# Initialize and train the XGBoost model\n",
    "model = XGBRegressor()"
   ],
   "id": "b0de61803780707d",
   "outputs": [],
   "execution_count": null
  },
  {
   "metadata": {
    "ExecuteTime": {
     "end_time": "2024-08-18T14:35:02.100626Z",
     "start_time": "2024-08-18T14:34:42.511566Z"
    }
   },
   "cell_type": "code",
   "source": "x_train, y_train, x_val, y_val, x_test, y_test = split_time_series_data(df, \"temp\", window_size=14)",
   "id": "a58dc19571c3aa41",
   "outputs": [],
   "execution_count": 26
  },
  {
   "metadata": {
    "ExecuteTime": {
     "end_time": "2024-08-18T14:35:02.124850Z",
     "start_time": "2024-08-18T14:35:02.112446Z"
    }
   },
   "cell_type": "code",
   "source": "model = XGBRegressor()",
   "id": "4cbbb1504d149898",
   "outputs": [],
   "execution_count": 27
  },
  {
   "metadata": {
    "ExecuteTime": {
     "end_time": "2024-08-18T14:44:06.228055Z",
     "start_time": "2024-08-18T14:44:06.216615Z"
    }
   },
   "cell_type": "code",
   "source": "X_train\n",
   "id": "e298c2cc54cf24f",
   "outputs": [
    {
     "data": {
      "text/plain": [
       "array([[7.0, 2.0, 4.5, ..., 8.566666666666666, 16.3, 7.731944444444444],\n",
       "       [9.0, 2.0, 6.0, ..., 8.55, 16.316666666666666, 7.764444444444444],\n",
       "       [10.0, 4.0, 7.1, ..., 8.55, 16.35, 7.798611111111111],\n",
       "       ...,\n",
       "       [8.2, -7.4, 5.4, ..., 8.066666666666666, 16.45, 8.395277777777778],\n",
       "       [9.2, 7.0, 6.3, ..., 8.066666666666666, 16.466666666666665,\n",
       "        8.407777777777778],\n",
       "       [9.5, 3.1, 7.8, ..., 8.066666666666666, 16.483333333333334,\n",
       "        8.422222222222222]], dtype=object)"
      ]
     },
     "execution_count": 16,
     "metadata": {},
     "output_type": "execute_result"
    }
   ],
   "execution_count": 16
  },
  {
   "metadata": {
    "ExecuteTime": {
     "end_time": "2024-08-18T14:37:11.173551Z",
     "start_time": "2024-08-18T14:37:11.137887Z"
    }
   },
   "cell_type": "code",
   "source": [
    "import time\n",
    "from sklearn.metrics import mean_absolute_error, r2_score\n",
    "from sklearn.model_selection import GridSearchCV\n",
    "\n",
    "def train_and_evaluate_model(model, X_train, y_train, X_test, y_test, model_name, window_size, hyperparams=None):\n",
    "    # Record start time\n",
    "    if hyperparams is not None:\n",
    "        grid_search = GridSearchCV(estimator=model, param_grid=hyperparams,scoring='neg_mean_squared_error', cv=3, verbose=1)\n",
    "\n",
    "        grid_search.fit(X_train, y_train)\n",
    "        \n",
    "        model = grid_search.best_estimator_\n",
    "\n",
    "        start_time = time.time()\n",
    "        model.fit(X_train, y_train)\n",
    "        training_time = time.time() - start_time\n",
    "    else:\n",
    "    \n",
    "        start_time = time.time()\n",
    "    \n",
    "        # Fit the model\n",
    "        model.fit(X_train, y_train)\n",
    "    \n",
    "        # Calculate training time\n",
    "        training_time = time.time() - start_time\n",
    "\n",
    "    # Make predictions\n",
    "    y_pred = model.predict(X_test)\n",
    "\n",
    "    # Ensure y_pred is 1D\n",
    "    y_pred = y_pred.flatten()\n",
    "    y_test = y_test.flatten()\n",
    "\n",
    "    # Calculate metrics\n",
    "    rmse = np.sqrt(mean_squared_error(y_test, y_pred))\n",
    "    mae = mean_absolute_error(y_test, y_pred)\n",
    "    smape = 100 * np.mean(2 * np.abs(y_pred - y_test) / (np.abs(y_pred) + np.abs(y_test)))\n",
    "    r2 = r2_score(y_test, y_pred)\n",
    "    forecast_bias = np.mean(y_pred - y_test)\n",
    "\n",
    "    # Compile metrics dictionary\n",
    "    metrics = {\n",
    "        'model_name': model_name,\n",
    "        'window_size': window_size,\n",
    "        'rmse': rmse,\n",
    "        'mae': mae,\n",
    "        'smape': smape,\n",
    "        'r2': r2,\n",
    "        'forecast_bias': forecast_bias,\n",
    "        'training_time': training_time\n",
    "    }\n",
    "\n",
    "    return model, metrics"
   ],
   "id": "d8e73e6a5380d480",
   "outputs": [],
   "execution_count": 8
  },
  {
   "metadata": {
    "ExecuteTime": {
     "end_time": "2024-08-18T14:39:51.135638Z",
     "start_time": "2024-08-18T14:37:14.074678Z"
    }
   },
   "cell_type": "code",
   "source": [
    "_, metrics = train_and_evaluate_model(model, X_train, y_train, X_test, y_test)\n",
    "log(metrics, 'noTuning')\n",
    "\n",
    "param_grid = {\n",
    "    'n_estimators': [50, 100],\n",
    "    'max_depth': [3, 5],\n",
    "    'learning_rate': [0.1, 0.01],\n",
    "    'subsample': [0.8, 1.0],\n",
    "    'colsample_bytree': [0.8, 1.0]\n",
    "}\n",
    "\n",
    "_, metrics = train_and_evaluate_model(model, X_train, y_train, X_test, y_test, hyperparams=param_grid)\n",
    "log(metrics, 'Tuning')\n",
    "\n"
   ],
   "id": "5bc0a5ff815b0e2",
   "outputs": [
    {
     "name": "stdout",
     "output_type": "stream",
     "text": [
      "Metrics have been logged to: ..\\results\\noTuning\\XGBoost\\metrics.csv\n",
      "Fitting 3 folds for each of 32 candidates, totalling 96 fits\n",
      "Metrics have been logged to: ..\\results\\Tuning\\XGBoost\\metrics.csv\n"
     ]
    }
   ],
   "execution_count": 9
  }
 ],
 "metadata": {
  "kernelspec": {
   "display_name": "Python 3",
   "language": "python",
   "name": "python3"
  },
  "language_info": {
   "codemirror_mode": {
    "name": "ipython",
    "version": 2
   },
   "file_extension": ".py",
   "mimetype": "text/x-python",
   "name": "python",
   "nbconvert_exporter": "python",
   "pygments_lexer": "ipython2",
   "version": "2.7.6"
  }
 },
 "nbformat": 4,
 "nbformat_minor": 5
}
