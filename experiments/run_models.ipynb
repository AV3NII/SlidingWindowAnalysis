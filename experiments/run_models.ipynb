{
 "cells": [
  {
   "cell_type": "code",
   "id": "initial_id",
   "metadata": {
    "collapsed": true,
    "ExecuteTime": {
     "end_time": "2024-08-17T19:20:52.351138Z",
     "start_time": "2024-08-17T19:20:41.235140Z"
    }
   },
   "source": [
    "import pandas as pd\n",
    "from helpers.data_loader import split_time_series_data\n",
    "from helpers.metrics import train_and_evaluate_model\n",
    "from model_composer.model_builders import create_lstm_model\n",
    "from model_composer.prepare import prepare_for_model"
   ],
   "outputs": [],
   "execution_count": 1
  },
  {
   "metadata": {
    "ExecuteTime": {
     "end_time": "2024-08-17T19:20:52.388085Z",
     "start_time": "2024-08-17T19:20:52.379989Z"
    }
   },
   "cell_type": "code",
   "source": [
    "target = 'temp'\n",
    "model_names = ['lstm', 'cnn', 'xgb', 'gbm']\n",
    "window_sizes = [7, 14, 30, 60, 180, 365]\n"
   ],
   "id": "38a925c7b6f0b883",
   "outputs": [],
   "execution_count": 2
  },
  {
   "metadata": {
    "jupyter": {
     "is_executing": true
    },
    "ExecuteTime": {
     "start_time": "2024-08-17T19:20:52.403584Z"
    }
   },
   "cell_type": "code",
   "source": [
    "# Load the data\n",
    "data = pd.read_csv('../data/Germany_20140101_20231231.csv')\n",
    "\n",
    "for model_name in model_names:\n",
    "    for window_size in window_sizes:\n",
    "        x_train, y_train, x_val, y_val, x_test, y_test = split_time_series_data(data, target, window_size=window_size)\n",
    "        model, x_train, y_train, x_val, y_val, x_test, y_test = prepare_for_model(model_name, create_lstm_model, x_train, y_train, x_val, y_val, x_test, y_test, window_size, )\n",
    "        model, metrics = train_and_evaluate_model(\n",
    "            model, model_name,\n",
    "            x_train, y_train.values,\n",
    "            x_val, y_val.values,\n",
    "            x_test, y_test.values, \n",
    "            window_size,\n",
    "            is_deep_learning=True)\n"
   ],
   "id": "1219f9fbc199b0b7",
   "outputs": [
    {
     "name": "stdout",
     "output_type": "stream",
     "text": [
      "Input shape for lstm: (7, 34)\n",
      "Epoch 1/100\n"
     ]
    },
    {
     "name": "stderr",
     "output_type": "stream",
     "text": [
      "C:\\Users\\veit\\.conda\\envs\\slidingWindowAnalysis\\Lib\\site-packages\\keras\\src\\layers\\rnn\\rnn.py:204: UserWarning: Do not pass an `input_shape`/`input_dim` argument to a layer. When using Sequential models, prefer using an `Input(shape)` object as the first layer in the model instead.\n",
      "  super().__init__(**kwargs)\n"
     ]
    },
    {
     "name": "stdout",
     "output_type": "stream",
     "text": [
      "\u001B[1m320/320\u001B[0m \u001B[32m━━━━━━━━━━━━━━━━━━━━\u001B[0m\u001B[37m\u001B[0m \u001B[1m8s\u001B[0m 14ms/step - loss: 86.7400 - val_loss: 21.5735\n",
      "Epoch 2/100\n",
      "\u001B[1m320/320\u001B[0m \u001B[32m━━━━━━━━━━━━━━━━━━━━\u001B[0m\u001B[37m\u001B[0m \u001B[1m4s\u001B[0m 13ms/step - loss: 16.7514 - val_loss: 10.3669\n",
      "Epoch 3/100\n",
      "\u001B[1m320/320\u001B[0m \u001B[32m━━━━━━━━━━━━━━━━━━━━\u001B[0m\u001B[37m\u001B[0m \u001B[1m4s\u001B[0m 13ms/step - loss: 9.3253 - val_loss: 7.7265\n",
      "Epoch 4/100\n",
      "\u001B[1m320/320\u001B[0m \u001B[32m━━━━━━━━━━━━━━━━━━━━\u001B[0m\u001B[37m\u001B[0m \u001B[1m4s\u001B[0m 13ms/step - loss: 7.4423 - val_loss: 6.1618\n",
      "Epoch 5/100\n",
      "\u001B[1m320/320\u001B[0m \u001B[32m━━━━━━━━━━━━━━━━━━━━\u001B[0m\u001B[37m\u001B[0m \u001B[1m5s\u001B[0m 14ms/step - loss: 6.7937 - val_loss: 5.8140\n",
      "Epoch 6/100\n",
      "\u001B[1m320/320\u001B[0m \u001B[32m━━━━━━━━━━━━━━━━━━━━\u001B[0m\u001B[37m\u001B[0m \u001B[1m5s\u001B[0m 15ms/step - loss: 6.3849 - val_loss: 5.4967\n",
      "Epoch 7/100\n",
      "\u001B[1m320/320\u001B[0m \u001B[32m━━━━━━━━━━━━━━━━━━━━\u001B[0m\u001B[37m\u001B[0m \u001B[1m5s\u001B[0m 15ms/step - loss: 6.1227 - val_loss: 6.1644\n",
      "Epoch 8/100\n",
      "\u001B[1m320/320\u001B[0m \u001B[32m━━━━━━━━━━━━━━━━━━━━\u001B[0m\u001B[37m\u001B[0m \u001B[1m4s\u001B[0m 13ms/step - loss: 6.0963 - val_loss: 5.4183\n",
      "Epoch 9/100\n",
      "\u001B[1m320/320\u001B[0m \u001B[32m━━━━━━━━━━━━━━━━━━━━\u001B[0m\u001B[37m\u001B[0m \u001B[1m4s\u001B[0m 14ms/step - loss: 6.1239 - val_loss: 5.5852\n",
      "Epoch 10/100\n",
      "\u001B[1m320/320\u001B[0m \u001B[32m━━━━━━━━━━━━━━━━━━━━\u001B[0m\u001B[37m\u001B[0m \u001B[1m4s\u001B[0m 13ms/step - loss: 5.9090 - val_loss: 5.4038\n",
      "Epoch 11/100\n",
      "\u001B[1m320/320\u001B[0m \u001B[32m━━━━━━━━━━━━━━━━━━━━\u001B[0m\u001B[37m\u001B[0m \u001B[1m5s\u001B[0m 14ms/step - loss: 5.6564 - val_loss: 5.2706\n",
      "Epoch 12/100\n",
      "\u001B[1m320/320\u001B[0m \u001B[32m━━━━━━━━━━━━━━━━━━━━\u001B[0m\u001B[37m\u001B[0m \u001B[1m4s\u001B[0m 13ms/step - loss: 5.4817 - val_loss: 5.7018\n",
      "Epoch 13/100\n",
      "\u001B[1m320/320\u001B[0m \u001B[32m━━━━━━━━━━━━━━━━━━━━\u001B[0m\u001B[37m\u001B[0m \u001B[1m4s\u001B[0m 13ms/step - loss: 5.6024 - val_loss: 5.4609\n",
      "Epoch 14/100\n",
      "\u001B[1m320/320\u001B[0m \u001B[32m━━━━━━━━━━━━━━━━━━━━\u001B[0m\u001B[37m\u001B[0m \u001B[1m4s\u001B[0m 13ms/step - loss: 5.3191 - val_loss: 5.1332\n",
      "Epoch 15/100\n",
      "\u001B[1m320/320\u001B[0m \u001B[32m━━━━━━━━━━━━━━━━━━━━\u001B[0m\u001B[37m\u001B[0m \u001B[1m4s\u001B[0m 13ms/step - loss: 5.5036 - val_loss: 5.0973\n",
      "Epoch 16/100\n",
      "\u001B[1m320/320\u001B[0m \u001B[32m━━━━━━━━━━━━━━━━━━━━\u001B[0m\u001B[37m\u001B[0m \u001B[1m4s\u001B[0m 13ms/step - loss: 5.2541 - val_loss: 4.7873\n",
      "Epoch 17/100\n",
      "\u001B[1m320/320\u001B[0m \u001B[32m━━━━━━━━━━━━━━━━━━━━\u001B[0m\u001B[37m\u001B[0m \u001B[1m4s\u001B[0m 13ms/step - loss: 5.4075 - val_loss: 5.0562\n",
      "Epoch 18/100\n",
      "\u001B[1m320/320\u001B[0m \u001B[32m━━━━━━━━━━━━━━━━━━━━\u001B[0m\u001B[37m\u001B[0m \u001B[1m4s\u001B[0m 14ms/step - loss: 5.3966 - val_loss: 5.6628\n",
      "Epoch 19/100\n",
      "\u001B[1m320/320\u001B[0m \u001B[32m━━━━━━━━━━━━━━━━━━━━\u001B[0m\u001B[37m\u001B[0m \u001B[1m4s\u001B[0m 13ms/step - loss: 5.3557 - val_loss: 4.9862\n",
      "Epoch 20/100\n",
      "\u001B[1m320/320\u001B[0m \u001B[32m━━━━━━━━━━━━━━━━━━━━\u001B[0m\u001B[37m\u001B[0m \u001B[1m4s\u001B[0m 13ms/step - loss: 5.3132 - val_loss: 5.0166\n",
      "Epoch 21/100\n",
      "\u001B[1m320/320\u001B[0m \u001B[32m━━━━━━━━━━━━━━━━━━━━\u001B[0m\u001B[37m\u001B[0m \u001B[1m4s\u001B[0m 13ms/step - loss: 5.1793 - val_loss: 4.5937\n",
      "Epoch 22/100\n",
      "\u001B[1m320/320\u001B[0m \u001B[32m━━━━━━━━━━━━━━━━━━━━\u001B[0m\u001B[37m\u001B[0m \u001B[1m4s\u001B[0m 13ms/step - loss: 4.9181 - val_loss: 4.8428\n",
      "Epoch 23/100\n",
      "\u001B[1m320/320\u001B[0m \u001B[32m━━━━━━━━━━━━━━━━━━━━\u001B[0m\u001B[37m\u001B[0m \u001B[1m5s\u001B[0m 14ms/step - loss: 4.9619 - val_loss: 4.5574\n",
      "Epoch 24/100\n",
      "\u001B[1m320/320\u001B[0m \u001B[32m━━━━━━━━━━━━━━━━━━━━\u001B[0m\u001B[37m\u001B[0m \u001B[1m4s\u001B[0m 14ms/step - loss: 5.0219 - val_loss: 4.4388\n",
      "Epoch 25/100\n",
      "\u001B[1m320/320\u001B[0m \u001B[32m━━━━━━━━━━━━━━━━━━━━\u001B[0m\u001B[37m\u001B[0m \u001B[1m4s\u001B[0m 13ms/step - loss: 4.9211 - val_loss: 4.7089\n",
      "Epoch 26/100\n",
      "\u001B[1m320/320\u001B[0m \u001B[32m━━━━━━━━━━━━━━━━━━━━\u001B[0m\u001B[37m\u001B[0m \u001B[1m4s\u001B[0m 13ms/step - loss: 4.9915 - val_loss: 5.0613\n",
      "Epoch 27/100\n",
      "\u001B[1m320/320\u001B[0m \u001B[32m━━━━━━━━━━━━━━━━━━━━\u001B[0m\u001B[37m\u001B[0m \u001B[1m4s\u001B[0m 12ms/step - loss: 4.8168 - val_loss: 5.0823\n",
      "Epoch 28/100\n",
      "\u001B[1m320/320\u001B[0m \u001B[32m━━━━━━━━━━━━━━━━━━━━\u001B[0m\u001B[37m\u001B[0m \u001B[1m4s\u001B[0m 14ms/step - loss: 5.1556 - val_loss: 4.5056\n",
      "Epoch 29/100\n",
      "\u001B[1m320/320\u001B[0m \u001B[32m━━━━━━━━━━━━━━━━━━━━\u001B[0m\u001B[37m\u001B[0m \u001B[1m4s\u001B[0m 12ms/step - loss: 4.8261 - val_loss: 4.9152\n",
      "Epoch 30/100\n",
      "\u001B[1m320/320\u001B[0m \u001B[32m━━━━━━━━━━━━━━━━━━━━\u001B[0m\u001B[37m\u001B[0m \u001B[1m4s\u001B[0m 13ms/step - loss: 4.8082 - val_loss: 4.7787\n",
      "Epoch 31/100\n",
      "\u001B[1m320/320\u001B[0m \u001B[32m━━━━━━━━━━━━━━━━━━━━\u001B[0m\u001B[37m\u001B[0m \u001B[1m4s\u001B[0m 13ms/step - loss: 5.2272 - val_loss: 5.0259\n",
      "Epoch 32/100\n",
      "\u001B[1m320/320\u001B[0m \u001B[32m━━━━━━━━━━━━━━━━━━━━\u001B[0m\u001B[37m\u001B[0m \u001B[1m4s\u001B[0m 13ms/step - loss: 4.9125 - val_loss: 4.3732\n",
      "Epoch 33/100\n",
      "\u001B[1m320/320\u001B[0m \u001B[32m━━━━━━━━━━━━━━━━━━━━\u001B[0m\u001B[37m\u001B[0m \u001B[1m4s\u001B[0m 12ms/step - loss: 4.8881 - val_loss: 4.9874\n",
      "Epoch 34/100\n",
      "\u001B[1m320/320\u001B[0m \u001B[32m━━━━━━━━━━━━━━━━━━━━\u001B[0m\u001B[37m\u001B[0m \u001B[1m4s\u001B[0m 12ms/step - loss: 4.8244 - val_loss: 4.5959\n",
      "Epoch 35/100\n",
      "\u001B[1m320/320\u001B[0m \u001B[32m━━━━━━━━━━━━━━━━━━━━\u001B[0m\u001B[37m\u001B[0m \u001B[1m4s\u001B[0m 13ms/step - loss: 4.7571 - val_loss: 4.2396\n",
      "Epoch 36/100\n",
      "\u001B[1m184/320\u001B[0m \u001B[32m━━━━━━━━━━━\u001B[0m\u001B[37m━━━━━━━━━\u001B[0m \u001B[1m1s\u001B[0m 13ms/step - loss: 4.7231"
     ]
    }
   ],
   "execution_count": null
  }
 ],
 "metadata": {
  "kernelspec": {
   "display_name": "Python 3",
   "language": "python",
   "name": "python3"
  },
  "language_info": {
   "codemirror_mode": {
    "name": "ipython",
    "version": 2
   },
   "file_extension": ".py",
   "mimetype": "text/x-python",
   "name": "python",
   "nbconvert_exporter": "python",
   "pygments_lexer": "ipython2",
   "version": "2.7.6"
  }
 },
 "nbformat": 4,
 "nbformat_minor": 5
}
